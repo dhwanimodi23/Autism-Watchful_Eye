{
  "nbformat": 4,
  "nbformat_minor": 0,
  "metadata": {
    "colab": {
      "provenance": []
    },
    "kernelspec": {
      "name": "python3",
      "display_name": "Python 3"
    },
    "language_info": {
      "name": "python"
    }
  },
  "cells": [
    {
      "cell_type": "code",
      "execution_count": null,
      "metadata": {
        "id": "-DPDPypE9E61"
      },
      "outputs": [],
      "source": [
        "import numpy as np\n",
        "import pandas as pd\n",
        "\n"
      ]
    },
    {
      "cell_type": "code",
      "source": [
        "df_test = pd.read_csv('/content/test.csv')"
      ],
      "metadata": {
        "id": "70JcoMpw9c6Z"
      },
      "execution_count": null,
      "outputs": []
    },
    {
      "cell_type": "code",
      "source": [
        "\n",
        "def get_values(hr,hrv):\n",
        "  hr_data = [hr,hr-1,hr+2,hr-2,hr+4]\n",
        "  # Calculate the RR intervals from the heart rate data (in milliseconds)\n",
        "  rr_data = [60000/hr for hr in hr_data]\n",
        "  # Calculate the mean RR interval\n",
        "  get_values.mean_rr = np.mean(rr_data)\n",
        "  # Calculate the median RR interval\n",
        "  get_values.median_rr = np.median(rr_data)\n"
      ],
      "metadata": {
        "id": "xZv3DyNe9RM8"
      },
      "execution_count": null,
      "outputs": []
    },
    {
      "cell_type": "code",
      "source": [
        "import pickle\n",
        "filename = '/content/panicpred.sav'\n",
        "loaded_model = pickle.load(open(filename, 'rb'))\n",
        "#y = open('/content/output.txt','r')\n",
        "# df12=pd.read_csv('/content/ab.txt.txt')\n",
        "# print(df12)\n"
      ],
      "metadata": {
        "id": "en0iJ1pJiFB7"
      },
      "execution_count": null,
      "outputs": []
    },
    {
      "cell_type": "code",
      "source": [
        "df_test = df_test['HR']\n",
        "df_test.head()"
      ],
      "metadata": {
        "colab": {
          "base_uri": "https://localhost:8080/"
        },
        "id": "24tRtGWY9dqj",
        "outputId": "87cdc723-d506-4e74-a370-0ba8fcb658cf"
      },
      "execution_count": null,
      "outputs": [
        {
          "output_type": "execute_result",
          "data": {
            "text/plain": [
              "0    84.121868\n",
              "1    71.478642\n",
              "2    63.874293\n",
              "3    74.330531\n",
              "4    82.092049\n",
              "Name: HR, dtype: float64"
            ]
          },
          "metadata": {},
          "execution_count": 7
        }
      ]
    },
    {
      "cell_type": "code",
      "source": [
        "#hr = df_test\n",
        "hr = [120]\n",
        "hrv = 75\n",
        "for hr in hr:\n",
        "  ans_get_values = get_values(hr,hrv)\n",
        "  mean_rr = get_values.mean_rr\n",
        "  median_rr = get_values.median_rr\n",
        "  y1 = pd.DataFrame({'HR': [hr], 'MEAN_RR':[mean_rr], 'MEDIAN_RR':[median_rr]})\n",
        "  x_test = np.array(y1).reshape((1,-1))\n",
        "  pred=loaded_model.predict(x_test, predict_disable_shape_check=True)\n",
        "  #argmax() method \n",
        "  pred = [np.argmax(line) for line in pred]\n",
        "  print(pred)\n"
      ],
      "metadata": {
        "colab": {
          "base_uri": "https://localhost:8080/"
        },
        "id": "_UAvfuwD9fgg",
        "outputId": "a8417e0d-c123-476b-b043-e28b37eaf4af"
      },
      "execution_count": null,
      "outputs": [
        {
          "output_type": "stream",
          "name": "stdout",
          "text": [
            "[2]\n"
          ]
        }
      ]
    },
    {
      "cell_type": "code",
      "source": [
        "hr = 121\n",
        "hrv = 75\n",
        "#for hr in hr:\n",
        "ans_get_values = get_values(hr,hrv)\n",
        "mean_rr = get_values.mean_rr\n",
        "median_rr = get_values.median_rr\n",
        "y1 = pd.DataFrame({'HR': [hr], 'MEAN_RR':[mean_rr], 'MEDIAN_RR':[median_rr]})\n",
        "x_test = np.array(y1).reshape((1,-1))\n",
        "pred=loaded_model.predict(x_test,predict_disable_shape_check=True)\n",
        "#argmax() method \n",
        "pred = [np.argmax(line) for line in pred]\n",
        "# print(type(pred))\n",
        "if(pred[0]==2):\n",
        "  if((hrv>105 or hrv<40) and (hr>120 or hr<60)):\n",
        "    pred = [2]\n",
        "  else:\n",
        "    pred = [1]\n",
        "print(pred)\n"
      ],
      "metadata": {
        "colab": {
          "base_uri": "https://localhost:8080/"
        },
        "id": "p4BkwbvXdoE-",
        "outputId": "81bc901d-ffd0-41f3-d615-6e9cbd661a7a"
      },
      "execution_count": null,
      "outputs": [
        {
          "output_type": "stream",
          "name": "stdout",
          "text": [
            "[1]\n"
          ]
        }
      ]
    }
  ]
}