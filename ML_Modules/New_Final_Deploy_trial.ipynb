{
  "nbformat": 4,
  "nbformat_minor": 0,
  "metadata": {
    "colab": {
      "provenance": []
    },
    "kernelspec": {
      "name": "python3",
      "display_name": "Python 3"
    },
    "language_info": {
      "name": "python"
    }
  },
  "cells": [
    {
      "cell_type": "code",
      "execution_count": null,
      "metadata": {
        "id": "3eD5wtei-GEu"
      },
      "outputs": [],
      "source": [
        "import pickle\n",
        "\n",
        "# Load the saved model from the .sav file\n",
        "with open('panicpred.sav', 'rb') as f:\n",
        "    model = pickle.load(f)\n",
        "\n",
        "# Save the model as a Python module\n",
        "with open('model.py', 'w') as f:\n",
        "    f.write('import pickle\\n')\n",
        "    f.write('model = pickle.loads({!r})\\n'.format(pickle.dumps(model)))\n"
      ]
    },
    {
      "cell_type": "code",
      "source": [
        "import argparse\n",
        "import sys\n",
        "import model\n",
        "import numpy as np\n",
        "\n",
        "def main(hr):\n",
        "    # Calculate MEAN_RR and MEDIAN_RR from the HR\n",
        "    mean_rr = np.mean(hr)\n",
        "    median_rr = np.median(hr)\n",
        "\n",
        "    # Process the input data using the model\n",
        "    input_data = [mean_rr, median_rr]\n",
        "    prediction = model.predict([input_data])\n",
        "\n",
        "    # Write the output data to the console\n",
        "    print('Prediction: {}'.format(prediction))\n",
        "\n",
        "if __name__ == '__main__':\n",
        "    parser = argparse.ArgumentParser()\n",
        "    parser.add_argument('hr', nargs='+', type=float, help='heart rate input')\n",
        "    args = parser.parse_args()\n",
        "\n",
        "    main(args.hr)\n"
      ],
      "metadata": {
        "colab": {
          "base_uri": "https://localhost:8080/",
          "height": 1000
        },
        "id": "mrEaEwhB-KDF",
        "outputId": "bed57d15-469f-494c-f68f-c89ebd0a53d0"
      },
      "execution_count": null,
      "outputs": [
        {
          "output_type": "stream",
          "name": "stderr",
          "text": [
            "usage: ipykernel_launcher.py [-h] hr [hr ...]\n",
            "ipykernel_launcher.py: error: argument hr: invalid float value: '/root/.local/share/jupyter/runtime/kernel-967a9ab5-3bba-4efb-ad81-4ee7c68c7410.json'\n",
            "ERROR:root:Internal Python error in the inspect module.\n",
            "Below is the traceback from this internal error.\n",
            "\n"
          ]
        },
        {
          "output_type": "stream",
          "name": "stdout",
          "text": [
            "Traceback (most recent call last):\n",
            "  File \"/usr/lib/python3.9/argparse.py\", line 2495, in _get_value\n",
            "    result = type_func(arg_string)\n",
            "ValueError: could not convert string to float: '/root/.local/share/jupyter/runtime/kernel-967a9ab5-3bba-4efb-ad81-4ee7c68c7410.json'\n",
            "\n",
            "During handling of the above exception, another exception occurred:\n",
            "\n",
            "Traceback (most recent call last):\n",
            "  File \"/usr/lib/python3.9/argparse.py\", line 1870, in parse_known_args\n",
            "    namespace, args = self._parse_known_args(args, namespace)\n",
            "  File \"/usr/lib/python3.9/argparse.py\", line 2082, in _parse_known_args\n",
            "    stop_index = consume_positionals(start_index)\n",
            "  File \"/usr/lib/python3.9/argparse.py\", line 2038, in consume_positionals\n",
            "    take_action(action, args)\n",
            "  File \"/usr/lib/python3.9/argparse.py\", line 1931, in take_action\n",
            "    argument_values = self._get_values(action, argument_strings)\n",
            "  File \"/usr/lib/python3.9/argparse.py\", line 2480, in _get_values\n",
            "    value = [self._get_value(action, v) for v in arg_strings]\n",
            "  File \"/usr/lib/python3.9/argparse.py\", line 2480, in <listcomp>\n",
            "    value = [self._get_value(action, v) for v in arg_strings]\n",
            "  File \"/usr/lib/python3.9/argparse.py\", line 2508, in _get_value\n",
            "    raise ArgumentError(action, msg % args)\n",
            "argparse.ArgumentError: argument hr: invalid float value: '/root/.local/share/jupyter/runtime/kernel-967a9ab5-3bba-4efb-ad81-4ee7c68c7410.json'\n",
            "\n",
            "During handling of the above exception, another exception occurred:\n",
            "\n",
            "Traceback (most recent call last):\n",
            "  File \"/usr/local/lib/python3.9/dist-packages/IPython/core/interactiveshell.py\", line 3553, in run_code\n",
            "    exec(code_obj, self.user_global_ns, self.user_ns)\n",
            "  File \"<ipython-input-4-43cbdd858b13>\", line 21, in <cell line: 18>\n",
            "    args = parser.parse_args()\n",
            "  File \"/usr/lib/python3.9/argparse.py\", line 1837, in parse_args\n",
            "    args, argv = self.parse_known_args(args, namespace)\n",
            "  File \"/usr/lib/python3.9/argparse.py\", line 1873, in parse_known_args\n",
            "    self.error(str(err))\n",
            "  File \"/usr/lib/python3.9/argparse.py\", line 2594, in error\n",
            "    self.exit(2, _('%(prog)s: error: %(message)s\\n') % args)\n",
            "  File \"/usr/lib/python3.9/argparse.py\", line 2581, in exit\n",
            "    _sys.exit(status)\n",
            "SystemExit: 2\n",
            "\n",
            "During handling of the above exception, another exception occurred:\n",
            "\n",
            "Traceback (most recent call last):\n",
            "  File \"/usr/local/lib/python3.9/dist-packages/IPython/core/ultratb.py\", line 1101, in get_records\n",
            "    return _fixed_getinnerframes(etb, number_of_lines_of_context, tb_offset)\n",
            "  File \"/usr/local/lib/python3.9/dist-packages/IPython/core/ultratb.py\", line 248, in wrapped\n",
            "    return f(*args, **kwargs)\n",
            "  File \"/usr/local/lib/python3.9/dist-packages/IPython/core/ultratb.py\", line 281, in _fixed_getinnerframes\n",
            "    records = fix_frame_records_filenames(inspect.getinnerframes(etb, context))\n",
            "  File \"/usr/lib/python3.9/inspect.py\", line 1543, in getinnerframes\n",
            "    frameinfo = (tb.tb_frame,) + getframeinfo(tb, context)\n",
            "AttributeError: 'tuple' object has no attribute 'tb_frame'\n"
          ]
        },
        {
          "output_type": "error",
          "ename": "TypeError",
          "evalue": "ignored",
          "traceback": [
            "\u001b[0;31m---------------------------------------------------------------------------\u001b[0m",
            "\u001b[0;31mValueError\u001b[0m                                Traceback (most recent call last)",
            "\u001b[0;32m/usr/lib/python3.9/argparse.py\u001b[0m in \u001b[0;36m_get_value\u001b[0;34m(self, action, arg_string)\u001b[0m\n\u001b[1;32m   2494\u001b[0m         \u001b[0;32mtry\u001b[0m\u001b[0;34m:\u001b[0m\u001b[0;34m\u001b[0m\u001b[0;34m\u001b[0m\u001b[0m\n\u001b[0;32m-> 2495\u001b[0;31m             \u001b[0mresult\u001b[0m \u001b[0;34m=\u001b[0m \u001b[0mtype_func\u001b[0m\u001b[0;34m(\u001b[0m\u001b[0marg_string\u001b[0m\u001b[0;34m)\u001b[0m\u001b[0;34m\u001b[0m\u001b[0;34m\u001b[0m\u001b[0m\n\u001b[0m\u001b[1;32m   2496\u001b[0m \u001b[0;34m\u001b[0m\u001b[0m\n",
            "\u001b[0;31mValueError\u001b[0m: could not convert string to float: '/root/.local/share/jupyter/runtime/kernel-967a9ab5-3bba-4efb-ad81-4ee7c68c7410.json'",
            "\nDuring handling of the above exception, another exception occurred:\n",
            "\u001b[0;31mArgumentError\u001b[0m                             Traceback (most recent call last)",
            "\u001b[0;32m/usr/lib/python3.9/argparse.py\u001b[0m in \u001b[0;36mparse_known_args\u001b[0;34m(self, args, namespace)\u001b[0m\n\u001b[1;32m   1869\u001b[0m             \u001b[0;32mtry\u001b[0m\u001b[0;34m:\u001b[0m\u001b[0;34m\u001b[0m\u001b[0;34m\u001b[0m\u001b[0m\n\u001b[0;32m-> 1870\u001b[0;31m                 \u001b[0mnamespace\u001b[0m\u001b[0;34m,\u001b[0m \u001b[0margs\u001b[0m \u001b[0;34m=\u001b[0m \u001b[0mself\u001b[0m\u001b[0;34m.\u001b[0m\u001b[0m_parse_known_args\u001b[0m\u001b[0;34m(\u001b[0m\u001b[0margs\u001b[0m\u001b[0;34m,\u001b[0m \u001b[0mnamespace\u001b[0m\u001b[0;34m)\u001b[0m\u001b[0;34m\u001b[0m\u001b[0;34m\u001b[0m\u001b[0m\n\u001b[0m\u001b[1;32m   1871\u001b[0m             \u001b[0;32mexcept\u001b[0m \u001b[0mArgumentError\u001b[0m\u001b[0;34m:\u001b[0m\u001b[0;34m\u001b[0m\u001b[0;34m\u001b[0m\u001b[0m\n",
            "\u001b[0;32m/usr/lib/python3.9/argparse.py\u001b[0m in \u001b[0;36m_parse_known_args\u001b[0;34m(self, arg_strings, namespace)\u001b[0m\n\u001b[1;32m   2081\u001b[0m         \u001b[0;31m# consume any positionals following the last Optional\u001b[0m\u001b[0;34m\u001b[0m\u001b[0;34m\u001b[0m\u001b[0m\n\u001b[0;32m-> 2082\u001b[0;31m         \u001b[0mstop_index\u001b[0m \u001b[0;34m=\u001b[0m \u001b[0mconsume_positionals\u001b[0m\u001b[0;34m(\u001b[0m\u001b[0mstart_index\u001b[0m\u001b[0;34m)\u001b[0m\u001b[0;34m\u001b[0m\u001b[0;34m\u001b[0m\u001b[0m\n\u001b[0m\u001b[1;32m   2083\u001b[0m \u001b[0;34m\u001b[0m\u001b[0m\n",
            "\u001b[0;32m/usr/lib/python3.9/argparse.py\u001b[0m in \u001b[0;36mconsume_positionals\u001b[0;34m(start_index)\u001b[0m\n\u001b[1;32m   2037\u001b[0m                 \u001b[0mstart_index\u001b[0m \u001b[0;34m+=\u001b[0m \u001b[0marg_count\u001b[0m\u001b[0;34m\u001b[0m\u001b[0;34m\u001b[0m\u001b[0m\n\u001b[0;32m-> 2038\u001b[0;31m                 \u001b[0mtake_action\u001b[0m\u001b[0;34m(\u001b[0m\u001b[0maction\u001b[0m\u001b[0;34m,\u001b[0m \u001b[0margs\u001b[0m\u001b[0;34m)\u001b[0m\u001b[0;34m\u001b[0m\u001b[0;34m\u001b[0m\u001b[0m\n\u001b[0m\u001b[1;32m   2039\u001b[0m \u001b[0;34m\u001b[0m\u001b[0m\n",
            "\u001b[0;32m/usr/lib/python3.9/argparse.py\u001b[0m in \u001b[0;36mtake_action\u001b[0;34m(action, argument_strings, option_string)\u001b[0m\n\u001b[1;32m   1930\u001b[0m             \u001b[0mseen_actions\u001b[0m\u001b[0;34m.\u001b[0m\u001b[0madd\u001b[0m\u001b[0;34m(\u001b[0m\u001b[0maction\u001b[0m\u001b[0;34m)\u001b[0m\u001b[0;34m\u001b[0m\u001b[0;34m\u001b[0m\u001b[0m\n\u001b[0;32m-> 1931\u001b[0;31m             \u001b[0margument_values\u001b[0m \u001b[0;34m=\u001b[0m \u001b[0mself\u001b[0m\u001b[0;34m.\u001b[0m\u001b[0m_get_values\u001b[0m\u001b[0;34m(\u001b[0m\u001b[0maction\u001b[0m\u001b[0;34m,\u001b[0m \u001b[0margument_strings\u001b[0m\u001b[0;34m)\u001b[0m\u001b[0;34m\u001b[0m\u001b[0;34m\u001b[0m\u001b[0m\n\u001b[0m\u001b[1;32m   1932\u001b[0m \u001b[0;34m\u001b[0m\u001b[0m\n",
            "\u001b[0;32m/usr/lib/python3.9/argparse.py\u001b[0m in \u001b[0;36m_get_values\u001b[0;34m(self, action, arg_strings)\u001b[0m\n\u001b[1;32m   2479\u001b[0m         \u001b[0;32melse\u001b[0m\u001b[0;34m:\u001b[0m\u001b[0;34m\u001b[0m\u001b[0;34m\u001b[0m\u001b[0m\n\u001b[0;32m-> 2480\u001b[0;31m             \u001b[0mvalue\u001b[0m \u001b[0;34m=\u001b[0m \u001b[0;34m[\u001b[0m\u001b[0mself\u001b[0m\u001b[0;34m.\u001b[0m\u001b[0m_get_value\u001b[0m\u001b[0;34m(\u001b[0m\u001b[0maction\u001b[0m\u001b[0;34m,\u001b[0m \u001b[0mv\u001b[0m\u001b[0;34m)\u001b[0m \u001b[0;32mfor\u001b[0m \u001b[0mv\u001b[0m \u001b[0;32min\u001b[0m \u001b[0marg_strings\u001b[0m\u001b[0;34m]\u001b[0m\u001b[0;34m\u001b[0m\u001b[0;34m\u001b[0m\u001b[0m\n\u001b[0m\u001b[1;32m   2481\u001b[0m             \u001b[0;32mfor\u001b[0m \u001b[0mv\u001b[0m \u001b[0;32min\u001b[0m \u001b[0mvalue\u001b[0m\u001b[0;34m:\u001b[0m\u001b[0;34m\u001b[0m\u001b[0;34m\u001b[0m\u001b[0m\n",
            "\u001b[0;32m/usr/lib/python3.9/argparse.py\u001b[0m in \u001b[0;36m<listcomp>\u001b[0;34m(.0)\u001b[0m\n\u001b[1;32m   2479\u001b[0m         \u001b[0;32melse\u001b[0m\u001b[0;34m:\u001b[0m\u001b[0;34m\u001b[0m\u001b[0;34m\u001b[0m\u001b[0m\n\u001b[0;32m-> 2480\u001b[0;31m             \u001b[0mvalue\u001b[0m \u001b[0;34m=\u001b[0m \u001b[0;34m[\u001b[0m\u001b[0mself\u001b[0m\u001b[0;34m.\u001b[0m\u001b[0m_get_value\u001b[0m\u001b[0;34m(\u001b[0m\u001b[0maction\u001b[0m\u001b[0;34m,\u001b[0m \u001b[0mv\u001b[0m\u001b[0;34m)\u001b[0m \u001b[0;32mfor\u001b[0m \u001b[0mv\u001b[0m \u001b[0;32min\u001b[0m \u001b[0marg_strings\u001b[0m\u001b[0;34m]\u001b[0m\u001b[0;34m\u001b[0m\u001b[0;34m\u001b[0m\u001b[0m\n\u001b[0m\u001b[1;32m   2481\u001b[0m             \u001b[0;32mfor\u001b[0m \u001b[0mv\u001b[0m \u001b[0;32min\u001b[0m \u001b[0mvalue\u001b[0m\u001b[0;34m:\u001b[0m\u001b[0;34m\u001b[0m\u001b[0;34m\u001b[0m\u001b[0m\n",
            "\u001b[0;32m/usr/lib/python3.9/argparse.py\u001b[0m in \u001b[0;36m_get_value\u001b[0;34m(self, action, arg_string)\u001b[0m\n\u001b[1;32m   2507\u001b[0m             \u001b[0mmsg\u001b[0m \u001b[0;34m=\u001b[0m \u001b[0m_\u001b[0m\u001b[0;34m(\u001b[0m\u001b[0;34m'invalid %(type)s value: %(value)r'\u001b[0m\u001b[0;34m)\u001b[0m\u001b[0;34m\u001b[0m\u001b[0;34m\u001b[0m\u001b[0m\n\u001b[0;32m-> 2508\u001b[0;31m             \u001b[0;32mraise\u001b[0m \u001b[0mArgumentError\u001b[0m\u001b[0;34m(\u001b[0m\u001b[0maction\u001b[0m\u001b[0;34m,\u001b[0m \u001b[0mmsg\u001b[0m \u001b[0;34m%\u001b[0m \u001b[0margs\u001b[0m\u001b[0;34m)\u001b[0m\u001b[0;34m\u001b[0m\u001b[0;34m\u001b[0m\u001b[0m\n\u001b[0m\u001b[1;32m   2509\u001b[0m \u001b[0;34m\u001b[0m\u001b[0m\n",
            "\u001b[0;31mArgumentError\u001b[0m: argument hr: invalid float value: '/root/.local/share/jupyter/runtime/kernel-967a9ab5-3bba-4efb-ad81-4ee7c68c7410.json'",
            "\nDuring handling of the above exception, another exception occurred:\n",
            "\u001b[0;31mSystemExit\u001b[0m                                Traceback (most recent call last)",
            "    \u001b[0;31m[... skipping hidden 1 frame]\u001b[0m\n",
            "\u001b[0;32m<ipython-input-4-43cbdd858b13>\u001b[0m in \u001b[0;36m<cell line: 18>\u001b[0;34m()\u001b[0m\n\u001b[1;32m     20\u001b[0m     \u001b[0mparser\u001b[0m\u001b[0;34m.\u001b[0m\u001b[0madd_argument\u001b[0m\u001b[0;34m(\u001b[0m\u001b[0;34m'hr'\u001b[0m\u001b[0;34m,\u001b[0m \u001b[0mnargs\u001b[0m\u001b[0;34m=\u001b[0m\u001b[0;34m'+'\u001b[0m\u001b[0;34m,\u001b[0m \u001b[0mtype\u001b[0m\u001b[0;34m=\u001b[0m\u001b[0mfloat\u001b[0m\u001b[0;34m,\u001b[0m \u001b[0mhelp\u001b[0m\u001b[0;34m=\u001b[0m\u001b[0;34m'heart rate input'\u001b[0m\u001b[0;34m)\u001b[0m\u001b[0;34m\u001b[0m\u001b[0;34m\u001b[0m\u001b[0m\n\u001b[0;32m---> 21\u001b[0;31m     \u001b[0margs\u001b[0m \u001b[0;34m=\u001b[0m \u001b[0mparser\u001b[0m\u001b[0;34m.\u001b[0m\u001b[0mparse_args\u001b[0m\u001b[0;34m(\u001b[0m\u001b[0;34m)\u001b[0m\u001b[0;34m\u001b[0m\u001b[0;34m\u001b[0m\u001b[0m\n\u001b[0m\u001b[1;32m     22\u001b[0m \u001b[0;34m\u001b[0m\u001b[0m\n",
            "\u001b[0;32m/usr/lib/python3.9/argparse.py\u001b[0m in \u001b[0;36mparse_args\u001b[0;34m(self, args, namespace)\u001b[0m\n\u001b[1;32m   1836\u001b[0m     \u001b[0;32mdef\u001b[0m \u001b[0mparse_args\u001b[0m\u001b[0;34m(\u001b[0m\u001b[0mself\u001b[0m\u001b[0;34m,\u001b[0m \u001b[0margs\u001b[0m\u001b[0;34m=\u001b[0m\u001b[0;32mNone\u001b[0m\u001b[0;34m,\u001b[0m \u001b[0mnamespace\u001b[0m\u001b[0;34m=\u001b[0m\u001b[0;32mNone\u001b[0m\u001b[0;34m)\u001b[0m\u001b[0;34m:\u001b[0m\u001b[0;34m\u001b[0m\u001b[0;34m\u001b[0m\u001b[0m\n\u001b[0;32m-> 1837\u001b[0;31m         \u001b[0margs\u001b[0m\u001b[0;34m,\u001b[0m \u001b[0margv\u001b[0m \u001b[0;34m=\u001b[0m \u001b[0mself\u001b[0m\u001b[0;34m.\u001b[0m\u001b[0mparse_known_args\u001b[0m\u001b[0;34m(\u001b[0m\u001b[0margs\u001b[0m\u001b[0;34m,\u001b[0m \u001b[0mnamespace\u001b[0m\u001b[0;34m)\u001b[0m\u001b[0;34m\u001b[0m\u001b[0;34m\u001b[0m\u001b[0m\n\u001b[0m\u001b[1;32m   1838\u001b[0m         \u001b[0;32mif\u001b[0m \u001b[0margv\u001b[0m\u001b[0;34m:\u001b[0m\u001b[0;34m\u001b[0m\u001b[0;34m\u001b[0m\u001b[0m\n",
            "\u001b[0;32m/usr/lib/python3.9/argparse.py\u001b[0m in \u001b[0;36mparse_known_args\u001b[0;34m(self, args, namespace)\u001b[0m\n\u001b[1;32m   1872\u001b[0m                 \u001b[0merr\u001b[0m \u001b[0;34m=\u001b[0m \u001b[0m_sys\u001b[0m\u001b[0;34m.\u001b[0m\u001b[0mexc_info\u001b[0m\u001b[0;34m(\u001b[0m\u001b[0;34m)\u001b[0m\u001b[0;34m[\u001b[0m\u001b[0;36m1\u001b[0m\u001b[0;34m]\u001b[0m\u001b[0;34m\u001b[0m\u001b[0;34m\u001b[0m\u001b[0m\n\u001b[0;32m-> 1873\u001b[0;31m                 \u001b[0mself\u001b[0m\u001b[0;34m.\u001b[0m\u001b[0merror\u001b[0m\u001b[0;34m(\u001b[0m\u001b[0mstr\u001b[0m\u001b[0;34m(\u001b[0m\u001b[0merr\u001b[0m\u001b[0;34m)\u001b[0m\u001b[0;34m)\u001b[0m\u001b[0;34m\u001b[0m\u001b[0;34m\u001b[0m\u001b[0m\n\u001b[0m\u001b[1;32m   1874\u001b[0m         \u001b[0;32melse\u001b[0m\u001b[0;34m:\u001b[0m\u001b[0;34m\u001b[0m\u001b[0;34m\u001b[0m\u001b[0m\n",
            "\u001b[0;32m/usr/lib/python3.9/argparse.py\u001b[0m in \u001b[0;36merror\u001b[0;34m(self, message)\u001b[0m\n\u001b[1;32m   2593\u001b[0m         \u001b[0margs\u001b[0m \u001b[0;34m=\u001b[0m \u001b[0;34m{\u001b[0m\u001b[0;34m'prog'\u001b[0m\u001b[0;34m:\u001b[0m \u001b[0mself\u001b[0m\u001b[0;34m.\u001b[0m\u001b[0mprog\u001b[0m\u001b[0;34m,\u001b[0m \u001b[0;34m'message'\u001b[0m\u001b[0;34m:\u001b[0m \u001b[0mmessage\u001b[0m\u001b[0;34m}\u001b[0m\u001b[0;34m\u001b[0m\u001b[0;34m\u001b[0m\u001b[0m\n\u001b[0;32m-> 2594\u001b[0;31m         \u001b[0mself\u001b[0m\u001b[0;34m.\u001b[0m\u001b[0mexit\u001b[0m\u001b[0;34m(\u001b[0m\u001b[0;36m2\u001b[0m\u001b[0;34m,\u001b[0m \u001b[0m_\u001b[0m\u001b[0;34m(\u001b[0m\u001b[0;34m'%(prog)s: error: %(message)s\\n'\u001b[0m\u001b[0;34m)\u001b[0m \u001b[0;34m%\u001b[0m \u001b[0margs\u001b[0m\u001b[0;34m)\u001b[0m\u001b[0;34m\u001b[0m\u001b[0;34m\u001b[0m\u001b[0m\n\u001b[0m",
            "\u001b[0;32m/usr/lib/python3.9/argparse.py\u001b[0m in \u001b[0;36mexit\u001b[0;34m(self, status, message)\u001b[0m\n\u001b[1;32m   2580\u001b[0m             \u001b[0mself\u001b[0m\u001b[0;34m.\u001b[0m\u001b[0m_print_message\u001b[0m\u001b[0;34m(\u001b[0m\u001b[0mmessage\u001b[0m\u001b[0;34m,\u001b[0m \u001b[0m_sys\u001b[0m\u001b[0;34m.\u001b[0m\u001b[0mstderr\u001b[0m\u001b[0;34m)\u001b[0m\u001b[0;34m\u001b[0m\u001b[0;34m\u001b[0m\u001b[0m\n\u001b[0;32m-> 2581\u001b[0;31m         \u001b[0m_sys\u001b[0m\u001b[0;34m.\u001b[0m\u001b[0mexit\u001b[0m\u001b[0;34m(\u001b[0m\u001b[0mstatus\u001b[0m\u001b[0;34m)\u001b[0m\u001b[0;34m\u001b[0m\u001b[0;34m\u001b[0m\u001b[0m\n\u001b[0m\u001b[1;32m   2582\u001b[0m \u001b[0;34m\u001b[0m\u001b[0m\n",
            "\u001b[0;31mSystemExit\u001b[0m: 2",
            "\nDuring handling of the above exception, another exception occurred:\n",
            "\u001b[0;31mTypeError\u001b[0m                                 Traceback (most recent call last)",
            "    \u001b[0;31m[... skipping hidden 1 frame]\u001b[0m\n",
            "\u001b[0;32m/usr/local/lib/python3.9/dist-packages/IPython/core/interactiveshell.py\u001b[0m in \u001b[0;36mshowtraceback\u001b[0;34m(self, exc_tuple, filename, tb_offset, exception_only, running_compiled_code)\u001b[0m\n\u001b[1;32m   2090\u001b[0m                     stb = ['An exception has occurred, use %tb to see '\n\u001b[1;32m   2091\u001b[0m                            'the full traceback.\\n']\n\u001b[0;32m-> 2092\u001b[0;31m                     stb.extend(self.InteractiveTB.get_exception_only(etype,\n\u001b[0m\u001b[1;32m   2093\u001b[0m                                                                      value))\n\u001b[1;32m   2094\u001b[0m                 \u001b[0;32melse\u001b[0m\u001b[0;34m:\u001b[0m\u001b[0;34m\u001b[0m\u001b[0;34m\u001b[0m\u001b[0m\n",
            "\u001b[0;32m/usr/local/lib/python3.9/dist-packages/IPython/core/ultratb.py\u001b[0m in \u001b[0;36mget_exception_only\u001b[0;34m(self, etype, value)\u001b[0m\n\u001b[1;32m    752\u001b[0m         \u001b[0mvalue\u001b[0m \u001b[0;34m:\u001b[0m \u001b[0mexception\u001b[0m \u001b[0mvalue\u001b[0m\u001b[0;34m\u001b[0m\u001b[0;34m\u001b[0m\u001b[0m\n\u001b[1;32m    753\u001b[0m         \"\"\"\n\u001b[0;32m--> 754\u001b[0;31m         \u001b[0;32mreturn\u001b[0m \u001b[0mListTB\u001b[0m\u001b[0;34m.\u001b[0m\u001b[0mstructured_traceback\u001b[0m\u001b[0;34m(\u001b[0m\u001b[0mself\u001b[0m\u001b[0;34m,\u001b[0m \u001b[0metype\u001b[0m\u001b[0;34m,\u001b[0m \u001b[0mvalue\u001b[0m\u001b[0;34m)\u001b[0m\u001b[0;34m\u001b[0m\u001b[0;34m\u001b[0m\u001b[0m\n\u001b[0m\u001b[1;32m    755\u001b[0m \u001b[0;34m\u001b[0m\u001b[0m\n\u001b[1;32m    756\u001b[0m     \u001b[0;32mdef\u001b[0m \u001b[0mshow_exception_only\u001b[0m\u001b[0;34m(\u001b[0m\u001b[0mself\u001b[0m\u001b[0;34m,\u001b[0m \u001b[0metype\u001b[0m\u001b[0;34m,\u001b[0m \u001b[0mevalue\u001b[0m\u001b[0;34m)\u001b[0m\u001b[0;34m:\u001b[0m\u001b[0;34m\u001b[0m\u001b[0;34m\u001b[0m\u001b[0m\n",
            "\u001b[0;32m/usr/local/lib/python3.9/dist-packages/IPython/core/ultratb.py\u001b[0m in \u001b[0;36mstructured_traceback\u001b[0;34m(self, etype, evalue, etb, tb_offset, context)\u001b[0m\n\u001b[1;32m    627\u001b[0m             \u001b[0mchained_exceptions_tb_offset\u001b[0m \u001b[0;34m=\u001b[0m \u001b[0;36m0\u001b[0m\u001b[0;34m\u001b[0m\u001b[0;34m\u001b[0m\u001b[0m\n\u001b[1;32m    628\u001b[0m             out_list = (\n\u001b[0;32m--> 629\u001b[0;31m                 self.structured_traceback(\n\u001b[0m\u001b[1;32m    630\u001b[0m                     \u001b[0metype\u001b[0m\u001b[0;34m,\u001b[0m \u001b[0mevalue\u001b[0m\u001b[0;34m,\u001b[0m \u001b[0;34m(\u001b[0m\u001b[0metb\u001b[0m\u001b[0;34m,\u001b[0m \u001b[0mchained_exc_ids\u001b[0m\u001b[0;34m)\u001b[0m\u001b[0;34m,\u001b[0m\u001b[0;34m\u001b[0m\u001b[0;34m\u001b[0m\u001b[0m\n\u001b[1;32m    631\u001b[0m                     chained_exceptions_tb_offset, context)\n",
            "\u001b[0;32m/usr/local/lib/python3.9/dist-packages/IPython/core/ultratb.py\u001b[0m in \u001b[0;36mstructured_traceback\u001b[0;34m(self, etype, value, tb, tb_offset, number_of_lines_of_context)\u001b[0m\n\u001b[1;32m   1365\u001b[0m         \u001b[0;32melse\u001b[0m\u001b[0;34m:\u001b[0m\u001b[0;34m\u001b[0m\u001b[0;34m\u001b[0m\u001b[0m\n\u001b[1;32m   1366\u001b[0m             \u001b[0mself\u001b[0m\u001b[0;34m.\u001b[0m\u001b[0mtb\u001b[0m \u001b[0;34m=\u001b[0m \u001b[0mtb\u001b[0m\u001b[0;34m\u001b[0m\u001b[0;34m\u001b[0m\u001b[0m\n\u001b[0;32m-> 1367\u001b[0;31m         return FormattedTB.structured_traceback(\n\u001b[0m\u001b[1;32m   1368\u001b[0m             self, etype, value, tb, tb_offset, number_of_lines_of_context)\n\u001b[1;32m   1369\u001b[0m \u001b[0;34m\u001b[0m\u001b[0m\n",
            "\u001b[0;32m/usr/local/lib/python3.9/dist-packages/IPython/core/ultratb.py\u001b[0m in \u001b[0;36mstructured_traceback\u001b[0;34m(self, etype, value, tb, tb_offset, number_of_lines_of_context)\u001b[0m\n\u001b[1;32m   1265\u001b[0m         \u001b[0;32mif\u001b[0m \u001b[0mmode\u001b[0m \u001b[0;32min\u001b[0m \u001b[0mself\u001b[0m\u001b[0;34m.\u001b[0m\u001b[0mverbose_modes\u001b[0m\u001b[0;34m:\u001b[0m\u001b[0;34m\u001b[0m\u001b[0;34m\u001b[0m\u001b[0m\n\u001b[1;32m   1266\u001b[0m             \u001b[0;31m# Verbose modes need a full traceback\u001b[0m\u001b[0;34m\u001b[0m\u001b[0;34m\u001b[0m\u001b[0m\n\u001b[0;32m-> 1267\u001b[0;31m             return VerboseTB.structured_traceback(\n\u001b[0m\u001b[1;32m   1268\u001b[0m                 \u001b[0mself\u001b[0m\u001b[0;34m,\u001b[0m \u001b[0metype\u001b[0m\u001b[0;34m,\u001b[0m \u001b[0mvalue\u001b[0m\u001b[0;34m,\u001b[0m \u001b[0mtb\u001b[0m\u001b[0;34m,\u001b[0m \u001b[0mtb_offset\u001b[0m\u001b[0;34m,\u001b[0m \u001b[0mnumber_of_lines_of_context\u001b[0m\u001b[0;34m\u001b[0m\u001b[0;34m\u001b[0m\u001b[0m\n\u001b[1;32m   1269\u001b[0m             )\n",
            "\u001b[0;32m/usr/local/lib/python3.9/dist-packages/IPython/core/ultratb.py\u001b[0m in \u001b[0;36mstructured_traceback\u001b[0;34m(self, etype, evalue, etb, tb_offset, number_of_lines_of_context)\u001b[0m\n\u001b[1;32m   1122\u001b[0m         \u001b[0;34m\"\"\"Return a nice text document describing the traceback.\"\"\"\u001b[0m\u001b[0;34m\u001b[0m\u001b[0;34m\u001b[0m\u001b[0m\n\u001b[1;32m   1123\u001b[0m \u001b[0;34m\u001b[0m\u001b[0m\n\u001b[0;32m-> 1124\u001b[0;31m         formatted_exception = self.format_exception_as_a_whole(etype, evalue, etb, number_of_lines_of_context,\n\u001b[0m\u001b[1;32m   1125\u001b[0m                                                                tb_offset)\n\u001b[1;32m   1126\u001b[0m \u001b[0;34m\u001b[0m\u001b[0m\n",
            "\u001b[0;32m/usr/local/lib/python3.9/dist-packages/IPython/core/ultratb.py\u001b[0m in \u001b[0;36mformat_exception_as_a_whole\u001b[0;34m(self, etype, evalue, etb, number_of_lines_of_context, tb_offset)\u001b[0m\n\u001b[1;32m   1080\u001b[0m \u001b[0;34m\u001b[0m\u001b[0m\n\u001b[1;32m   1081\u001b[0m \u001b[0;34m\u001b[0m\u001b[0m\n\u001b[0;32m-> 1082\u001b[0;31m         \u001b[0mlast_unique\u001b[0m\u001b[0;34m,\u001b[0m \u001b[0mrecursion_repeat\u001b[0m \u001b[0;34m=\u001b[0m \u001b[0mfind_recursion\u001b[0m\u001b[0;34m(\u001b[0m\u001b[0morig_etype\u001b[0m\u001b[0;34m,\u001b[0m \u001b[0mevalue\u001b[0m\u001b[0;34m,\u001b[0m \u001b[0mrecords\u001b[0m\u001b[0;34m)\u001b[0m\u001b[0;34m\u001b[0m\u001b[0;34m\u001b[0m\u001b[0m\n\u001b[0m\u001b[1;32m   1083\u001b[0m \u001b[0;34m\u001b[0m\u001b[0m\n\u001b[1;32m   1084\u001b[0m         \u001b[0mframes\u001b[0m \u001b[0;34m=\u001b[0m \u001b[0mself\u001b[0m\u001b[0;34m.\u001b[0m\u001b[0mformat_records\u001b[0m\u001b[0;34m(\u001b[0m\u001b[0mrecords\u001b[0m\u001b[0;34m,\u001b[0m \u001b[0mlast_unique\u001b[0m\u001b[0;34m,\u001b[0m \u001b[0mrecursion_repeat\u001b[0m\u001b[0;34m)\u001b[0m\u001b[0;34m\u001b[0m\u001b[0;34m\u001b[0m\u001b[0m\n",
            "\u001b[0;32m/usr/local/lib/python3.9/dist-packages/IPython/core/ultratb.py\u001b[0m in \u001b[0;36mfind_recursion\u001b[0;34m(etype, value, records)\u001b[0m\n\u001b[1;32m    380\u001b[0m     \u001b[0;31m# first frame (from in to out) that looks different.\u001b[0m\u001b[0;34m\u001b[0m\u001b[0;34m\u001b[0m\u001b[0m\n\u001b[1;32m    381\u001b[0m     \u001b[0;32mif\u001b[0m \u001b[0;32mnot\u001b[0m \u001b[0mis_recursion_error\u001b[0m\u001b[0;34m(\u001b[0m\u001b[0metype\u001b[0m\u001b[0;34m,\u001b[0m \u001b[0mvalue\u001b[0m\u001b[0;34m,\u001b[0m \u001b[0mrecords\u001b[0m\u001b[0;34m)\u001b[0m\u001b[0;34m:\u001b[0m\u001b[0;34m\u001b[0m\u001b[0;34m\u001b[0m\u001b[0m\n\u001b[0;32m--> 382\u001b[0;31m         \u001b[0;32mreturn\u001b[0m \u001b[0mlen\u001b[0m\u001b[0;34m(\u001b[0m\u001b[0mrecords\u001b[0m\u001b[0;34m)\u001b[0m\u001b[0;34m,\u001b[0m \u001b[0;36m0\u001b[0m\u001b[0;34m\u001b[0m\u001b[0;34m\u001b[0m\u001b[0m\n\u001b[0m\u001b[1;32m    383\u001b[0m \u001b[0;34m\u001b[0m\u001b[0m\n\u001b[1;32m    384\u001b[0m     \u001b[0;31m# Select filename, lineno, func_name to track frames with\u001b[0m\u001b[0;34m\u001b[0m\u001b[0;34m\u001b[0m\u001b[0m\n",
            "\u001b[0;31mTypeError\u001b[0m: object of type 'NoneType' has no len()"
          ]
        }
      ]
    },
    {
      "cell_type": "code",
      "source": [
        "!pip install pyinstaller"
      ],
      "metadata": {
        "colab": {
          "base_uri": "https://localhost:8080/"
        },
        "id": "s5ppYJak-P_O",
        "outputId": "4d586132-ce80-459f-a38d-432c28f34713"
      },
      "execution_count": null,
      "outputs": [
        {
          "output_type": "stream",
          "name": "stdout",
          "text": [
            "Looking in indexes: https://pypi.org/simple, https://us-python.pkg.dev/colab-wheels/public/simple/\n",
            "Collecting pyinstaller\n",
            "  Downloading pyinstaller-5.9.0-py3-none-manylinux2014_x86_64.whl (650 kB)\n",
            "\u001b[2K     \u001b[90m━━━━━━━━━━━━━━━━━━━━━━━━━━━━━━━━━━━━━━\u001b[0m \u001b[32m650.4/650.4 KB\u001b[0m \u001b[31m14.4 MB/s\u001b[0m eta \u001b[36m0:00:00\u001b[0m\n",
            "\u001b[?25hCollecting altgraph\n",
            "  Downloading altgraph-0.17.3-py2.py3-none-any.whl (21 kB)\n",
            "Collecting pyinstaller-hooks-contrib>=2021.4\n",
            "  Downloading pyinstaller_hooks_contrib-2023.1-py2.py3-none-any.whl (256 kB)\n",
            "\u001b[2K     \u001b[90m━━━━━━━━━━━━━━━━━━━━━━━━━━━━━━━━━━━━━━\u001b[0m \u001b[32m256.8/256.8 KB\u001b[0m \u001b[31m32.1 MB/s\u001b[0m eta \u001b[36m0:00:00\u001b[0m\n",
            "\u001b[?25hRequirement already satisfied: setuptools>=42.0.0 in /usr/local/lib/python3.9/dist-packages (from pyinstaller) (67.6.1)\n",
            "Installing collected packages: altgraph, pyinstaller-hooks-contrib, pyinstaller\n",
            "Successfully installed altgraph-0.17.3 pyinstaller-5.9.0 pyinstaller-hooks-contrib-2023.1\n"
          ]
        }
      ]
    },
    {
      "cell_type": "code",
      "source": [
        "pyinstaller --onefile --name panicpred my_script.py\n"
      ],
      "metadata": {
        "id": "MaXqDzK--OmQ"
      },
      "execution_count": null,
      "outputs": []
    },
    {
      "cell_type": "markdown",
      "source": [
        "##FINAL TRY"
      ],
      "metadata": {
        "id": "m98lL0AZ-6hW"
      }
    },
    {
      "cell_type": "code",
      "source": [
        "import joblib\n",
        "\n",
        "model = joblib.load('panicpred.sav')\n"
      ],
      "metadata": {
        "id": "Bn777T_V-45b"
      },
      "execution_count": null,
      "outputs": []
    },
    {
      "cell_type": "code",
      "source": [
        "%%writefile mypanicpred.py\n",
        "\n",
        "import sys\n",
        "import pandas as pd\n",
        "import joblib\n",
        "import numpy as np\n",
        "\n",
        "model = joblib.load('panicpred.sav')\n",
        "\n",
        "hr = float(input(\"Enter your heart rate: \"))\n",
        "\n",
        "def get_values(hr):\n",
        "  hr_data = [hr,hr-5,hr+5]\n",
        "  # Calculate the RR intervals from the heart rate data (in milliseconds)\n",
        "  rr_data = [60000/hr for hr in hr_data]\n",
        "  # Calculate the mean RR interval\n",
        "  get_values.mean_rr = np.mean(rr_data)\n",
        "  # Calculate the median RR interval\n",
        "  get_values.median_rr = np.median(rr_data)\n",
        "\n",
        "ans_get_values = get_values(hr)\n",
        "MEAN_RR = get_values.mean_rr\n",
        "MEDIAN_RR = get_values.median_rr\n",
        "HR=hr\n",
        "\n",
        "y1 = pd.DataFrame({'HR': [HR], 'MEAN_RR':[MEAN_RR], 'MEDIAN_RR':[MEDIAN_RR]})\n",
        "x_test = np.array(y1).reshape((1,-1))\n",
        "\n",
        "prediction = model.predict(x_test, predict_disable_shape_check=True)\n",
        "pred = [np.argmax(line) for line in prediction]\n",
        "\n",
        "if pred[0] == 1:\n",
        "    print(\"You are in normal condition\")\n",
        "else:\n",
        "    print(\"You may be having a panic attack.\")\n"
      ],
      "metadata": {
        "colab": {
          "base_uri": "https://localhost:8080/"
        },
        "id": "5xo08kGl-9N-",
        "outputId": "829c91e4-89cc-4389-a283-b02fbe942238"
      },
      "execution_count": null,
      "outputs": [
        {
          "output_type": "stream",
          "name": "stdout",
          "text": [
            "Writing mypanicpred.py\n"
          ]
        }
      ]
    },
    {
      "cell_type": "code",
      "source": [
        "!pip uninstall pathlib"
      ],
      "metadata": {
        "colab": {
          "base_uri": "https://localhost:8080/"
        },
        "id": "1PUK_69NA67a",
        "outputId": "ddb863df-db88-40ab-84a6-f70c831a5eee"
      },
      "execution_count": null,
      "outputs": [
        {
          "output_type": "stream",
          "name": "stdout",
          "text": [
            "Found existing installation: pathlib 1.0.1\n",
            "Uninstalling pathlib-1.0.1:\n",
            "  Would remove:\n",
            "    /usr/local/lib/python3.9/dist-packages/pathlib-1.0.1.dist-info/*\n",
            "    /usr/local/lib/python3.9/dist-packages/pathlib.py\n",
            "Proceed (Y/n)? Y\n",
            "  Successfully uninstalled pathlib-1.0.1\n"
          ]
        }
      ]
    },
    {
      "cell_type": "code",
      "source": [
        "#!pyinstaller --onefile myscript.py\n",
        "!pyinstaller --onefile --name panicpred mypanicpred.py"
      ],
      "metadata": {
        "colab": {
          "base_uri": "https://localhost:8080/"
        },
        "id": "h3c9HNZC_Amk",
        "outputId": "bf47b398-ee28-46be-cdab-93c5c1d7746c"
      },
      "execution_count": null,
      "outputs": [
        {
          "output_type": "stream",
          "name": "stdout",
          "text": [
            "305 INFO: PyInstaller: 5.9.0\n",
            "305 INFO: Python: 3.9.16\n",
            "308 INFO: Platform: Linux-5.10.147+-x86_64-with-glibc2.31\n",
            "309 INFO: wrote /content/panicpred.spec\n",
            "311 INFO: UPX is not available.\n",
            "312 INFO: Extending PYTHONPATH with paths\n",
            "['/content']\n",
            "pygame 2.3.0 (SDL 2.24.2, Python 3.9.16)\n",
            "Hello from the pygame community. https://www.pygame.org/contribute.html\n",
            "1000 INFO: checking Analysis\n",
            "1000 INFO: Building Analysis because Analysis-00.toc is non existent\n",
            "1000 INFO: Initializing module dependency graph...\n",
            "1003 INFO: Caching module graph hooks...\n",
            "1012 INFO: Analyzing base_library.zip ...\n",
            "2325 INFO: Loading module hook 'hook-encodings.py' from '/usr/local/lib/python3.9/dist-packages/PyInstaller/hooks'...\n",
            "4341 INFO: Loading module hook 'hook-pickle.py' from '/usr/local/lib/python3.9/dist-packages/PyInstaller/hooks'...\n",
            "5867 INFO: Loading module hook 'hook-sysconfig.py' from '/usr/local/lib/python3.9/dist-packages/PyInstaller/hooks'...\n",
            "5988 INFO: Loading module hook 'hook-importlib_metadata.py' from '/usr/local/lib/python3.9/dist-packages/PyInstaller/hooks'...\n",
            "6184 INFO: Loading module hook 'hook-platform.py' from '/usr/local/lib/python3.9/dist-packages/PyInstaller/hooks'...\n",
            "6338 INFO: Loading module hook 'hook-heapq.py' from '/usr/local/lib/python3.9/dist-packages/PyInstaller/hooks'...\n",
            "6918 INFO: Caching module dependency graph...\n",
            "7024 INFO: running Analysis Analysis-00.toc\n",
            "7060 INFO: Analyzing /content/mypanicpred.py\n",
            "7106 INFO: Loading module hook 'hook-pandas.py' from '/usr/local/lib/python3.9/dist-packages/PyInstaller/hooks'...\n",
            "314 INFO: NumExpr defaulting to 2 threads.\n",
            "8430 INFO: Loading module hook 'hook-numpy.py' from '/usr/local/lib/python3.9/dist-packages/PyInstaller/hooks'...\n",
            "8976 INFO: Processing pre-find module path hook distutils from '/usr/local/lib/python3.9/dist-packages/PyInstaller/hooks/pre_find_module_path/hook-distutils.py'.\n",
            "9014 INFO: Loading module hook 'hook-distutils.py' from '/usr/local/lib/python3.9/dist-packages/PyInstaller/hooks'...\n",
            "9090 INFO: Loading module hook 'hook-distutils.util.py' from '/usr/local/lib/python3.9/dist-packages/PyInstaller/hooks'...\n",
            "9265 INFO: Loading module hook 'hook-multiprocessing.util.py' from '/usr/local/lib/python3.9/dist-packages/PyInstaller/hooks'...\n",
            "9442 INFO: Loading module hook 'hook-xml.py' from '/usr/local/lib/python3.9/dist-packages/PyInstaller/hooks'...\n",
            "11355 INFO: Loading module hook 'hook-difflib.py' from '/usr/local/lib/python3.9/dist-packages/PyInstaller/hooks'...\n",
            "12343 INFO: Loading module hook 'hook-xml.etree.cElementTree.py' from '/usr/local/lib/python3.9/dist-packages/PyInstaller/hooks'...\n",
            "13538 INFO: Loading module hook 'hook-pytz.py' from '/usr/local/lib/python3.9/dist-packages/PyInstaller/hooks'...\n",
            "13711 INFO: Loading module hook 'hook-pkg_resources.py' from '/usr/local/lib/python3.9/dist-packages/PyInstaller/hooks'...\n",
            "15170 INFO: Loading module hook 'hook-scipy.py' from '/usr/local/lib/python3.9/dist-packages/PyInstaller/hooks'...\n",
            "15254 INFO: Loading module hook 'hook-pytest.py' from '/usr/local/lib/python3.9/dist-packages/_pyinstaller_hooks_contrib/hooks/stdhooks'...\n",
            "15827 INFO: Loading module hook 'hook-py.py' from '/usr/local/lib/python3.9/dist-packages/_pyinstaller_hooks_contrib/hooks/stdhooks'...\n",
            "17361 INFO: Loading module hook 'hook-packaging.py' from '/usr/local/lib/python3.9/dist-packages/PyInstaller/hooks'...\n",
            "17618 INFO: Loading module hook 'hook-pygments.py' from '/usr/local/lib/python3.9/dist-packages/PyInstaller/hooks'...\n",
            "20745 INFO: Loading module hook 'hook-pycparser.py' from '/usr/local/lib/python3.9/dist-packages/_pyinstaller_hooks_contrib/hooks/stdhooks'...\n",
            "21266 INFO: Loading module hook 'hook-setuptools.py' from '/usr/local/lib/python3.9/dist-packages/PyInstaller/hooks'...\n",
            "23644 INFO: Loading module hook 'hook-scipy.sparse.csgraph.py' from '/usr/local/lib/python3.9/dist-packages/PyInstaller/hooks'...\n",
            "23828 INFO: Loading module hook 'hook-scipy.linalg.py' from '/usr/local/lib/python3.9/dist-packages/PyInstaller/hooks'...\n",
            "25855 INFO: Loading module hook 'hook-matplotlib.py' from '/usr/local/lib/python3.9/dist-packages/PyInstaller/hooks'...\n",
            "26298 INFO: Processing pre-safe import module hook gi from '/usr/local/lib/python3.9/dist-packages/PyInstaller/hooks/pre_safe_import_module/hook-gi.py'.\n",
            "26388 INFO: Loading module hook 'hook-gi.py' from '/usr/local/lib/python3.9/dist-packages/PyInstaller/hooks'...\n",
            "26516 INFO: Processing pre-safe import module hook gi.repository.GLib from '/usr/local/lib/python3.9/dist-packages/PyInstaller/hooks/pre_safe_import_module/hook-gi.repository.GLib.py'.\n",
            "26731 INFO: Loading module hook 'hook-PIL.py' from '/usr/local/lib/python3.9/dist-packages/PyInstaller/hooks'...\n",
            "26792 INFO: Loading module hook 'hook-PIL.Image.py' from '/usr/local/lib/python3.9/dist-packages/PyInstaller/hooks'...\n",
            "27177 INFO: Loading module hook 'hook-xml.dom.domreg.py' from '/usr/local/lib/python3.9/dist-packages/PyInstaller/hooks'...\n",
            "27724 INFO: Loading module hook 'hook-PIL.ImageFilter.py' from '/usr/local/lib/python3.9/dist-packages/PyInstaller/hooks'...\n",
            "28471 INFO: Loading module hook 'hook-jinja2.py' from '/usr/local/lib/python3.9/dist-packages/_pyinstaller_hooks_contrib/hooks/stdhooks'...\n",
            "31349 INFO: Processing pre-safe import module hook six.moves from '/usr/local/lib/python3.9/dist-packages/PyInstaller/hooks/pre_safe_import_module/hook-six.moves.py'.\n",
            "33108 INFO: Loading module hook 'hook-matplotlib.backends.py' from '/usr/local/lib/python3.9/dist-packages/PyInstaller/hooks'...\n",
            "34116 INFO: Loading module hook 'hook-IPython.py' from '/usr/local/lib/python3.9/dist-packages/_pyinstaller_hooks_contrib/hooks/stdhooks'...\n",
            "35949 INFO: Loading module hook 'hook-notebook.py' from '/usr/local/lib/python3.9/dist-packages/_pyinstaller_hooks_contrib/hooks/stdhooks'...\n",
            "36907 INFO: Loading module hook 'hook-platformdirs.py' from '/usr/local/lib/python3.9/dist-packages/_pyinstaller_hooks_contrib/hooks/stdhooks'...\n",
            "37175 INFO: Loading module hook 'hook-nbformat.py' from '/usr/local/lib/python3.9/dist-packages/_pyinstaller_hooks_contrib/hooks/stdhooks'...\n",
            "37596 INFO: Loading module hook 'hook-jsonschema.py' from '/usr/local/lib/python3.9/dist-packages/_pyinstaller_hooks_contrib/hooks/stdhooks'...\n",
            "37703 INFO: Loading module hook 'hook-importlib_resources.py' from '/usr/local/lib/python3.9/dist-packages/PyInstaller/hooks'...\n",
            "38555 INFO: Processing pre-safe import module hook urllib3.packages.six.moves from '/usr/local/lib/python3.9/dist-packages/PyInstaller/hooks/pre_safe_import_module/hook-urllib3.packages.six.moves.py'.\n",
            "38905 INFO: Loading module hook 'hook-charset_normalizer.py' from '/usr/local/lib/python3.9/dist-packages/_pyinstaller_hooks_contrib/hooks/stdhooks'...\n",
            "39056 INFO: Loading module hook 'hook-cryptography.py' from '/usr/local/lib/python3.9/dist-packages/_pyinstaller_hooks_contrib/hooks/stdhooks'...\n",
            "40873 INFO: Loading module hook 'hook-certifi.py' from '/usr/local/lib/python3.9/dist-packages/_pyinstaller_hooks_contrib/hooks/stdhooks'...\n",
            "41025 INFO: Loading module hook 'hook-nbconvert.py' from '/usr/local/lib/python3.9/dist-packages/_pyinstaller_hooks_contrib/hooks/stdhooks'...\n",
            "42157 INFO: Loading module hook 'hook-lxml.py' from '/usr/local/lib/python3.9/dist-packages/_pyinstaller_hooks_contrib/hooks/stdhooks'...\n",
            "43133 INFO: Loading module hook 'hook-zmq.py' from '/usr/local/lib/python3.9/dist-packages/_pyinstaller_hooks_contrib/hooks/stdhooks'...\n",
            "46593 INFO: Loading module hook 'hook-wcwidth.py' from '/usr/local/lib/python3.9/dist-packages/PyInstaller/hooks'...\n",
            "49935 INFO: Processing pre-safe import module hook gi.repository.GObject from '/usr/local/lib/python3.9/dist-packages/PyInstaller/hooks/pre_safe_import_module/hook-gi.repository.GObject.py'.\n",
            "49935 INFO: Processing pre-safe import module hook gi.repository.Gtk from '/usr/local/lib/python3.9/dist-packages/PyInstaller/hooks/pre_safe_import_module/hook-gi.repository.Gtk.py'.\n",
            "50666 INFO: Loading module hook 'hook-sqlite3.py' from '/usr/local/lib/python3.9/dist-packages/PyInstaller/hooks'...\n",
            "51368 INFO: Loading module hook 'hook-scipy.spatial.transform.rotation.py' from '/usr/local/lib/python3.9/dist-packages/PyInstaller/hooks'...\n",
            "52767 INFO: Loading module hook 'hook-sphinx.py' from '/usr/local/lib/python3.9/dist-packages/PyInstaller/hooks'...\n",
            "360 WARNING: Failed to collect submodules for 'sphinx.transforms.post_transforms' because importing 'sphinx.transforms.post_transforms' raised: ImportError: cannot import name 'environmentfilter' from 'jinja2' (/usr/local/lib/python3.9/dist-packages/jinja2/__init__.py)\n",
            "Traceback (most recent call last):\n",
            "  File \"<string>\", line 2, in <module>\n",
            "  File \"/usr/local/lib/python3.9/dist-packages/sphinx/application.py\", line 43, in <module>\n",
            "    from sphinx.registry import SphinxComponentRegistry\n",
            "  File \"/usr/local/lib/python3.9/dist-packages/sphinx/registry.py\", line 24, in <module>\n",
            "    from sphinx.builders import Builder\n",
            "  File \"/usr/local/lib/python3.9/dist-packages/sphinx/builders/__init__.py\", line 26, in <module>\n",
            "    from sphinx.util import import_object, logging, progress_message, rst, status_iterator\n",
            "  File \"/usr/local/lib/python3.9/dist-packages/sphinx/util/rst.py\", line 21, in <module>\n",
            "    from jinja2 import Environment, environmentfilter\n",
            "ImportError: cannot import name 'environmentfilter' from 'jinja2' (/usr/local/lib/python3.9/dist-packages/jinja2/__init__.py)\n",
            "54065 INFO: Loading module hook 'hook-docutils.py' from '/usr/local/lib/python3.9/dist-packages/_pyinstaller_hooks_contrib/hooks/stdhooks'...\n",
            "57833 INFO: Loading module hook 'hook-babel.py' from '/usr/local/lib/python3.9/dist-packages/PyInstaller/hooks'...\n",
            "58002 INFO: Loading module hook 'hook-zoneinfo.py' from '/usr/local/lib/python3.9/dist-packages/_pyinstaller_hooks_contrib/hooks/stdhooks'...\n",
            "58808 INFO: Loading module hook 'hook-lib2to3.py' from '/usr/local/lib/python3.9/dist-packages/PyInstaller/hooks'...\n",
            "62294 INFO: Loading module hook 'hook-pyarrow.py' from '/usr/local/lib/python3.9/dist-packages/_pyinstaller_hooks_contrib/hooks/stdhooks'...\n",
            "63117 INFO: Loading module hook 'hook-pandas.io.formats.style.py' from '/usr/local/lib/python3.9/dist-packages/PyInstaller/hooks'...\n",
            "65931 INFO: Loading module hook 'hook-openpyxl.py' from '/usr/local/lib/python3.9/dist-packages/_pyinstaller_hooks_contrib/hooks/stdhooks'...\n",
            "68563 INFO: Loading module hook 'hook-numba.py' from '/usr/local/lib/python3.9/dist-packages/_pyinstaller_hooks_contrib/hooks/stdhooks'...\n",
            "68689 INFO: Loading module hook 'hook-llvmlite.py' from '/usr/local/lib/python3.9/dist-packages/_pyinstaller_hooks_contrib/hooks/stdhooks'...\n",
            "74719 INFO: Processing pre-safe import module hook win32com from '/usr/local/lib/python3.9/dist-packages/_pyinstaller_hooks_contrib/hooks/pre_safe_import_module/hook-win32com.py'.\n",
            "76994 INFO: Loading module hook 'hook-tables.py' from '/usr/local/lib/python3.9/dist-packages/_pyinstaller_hooks_contrib/hooks/stdhooks'...\n",
            "80259 INFO: Loading module hook 'hook-sqlalchemy.py' from '/usr/local/lib/python3.9/dist-packages/PyInstaller/hooks'...\n",
            "83572 INFO: Processing pre-safe import module hook gi.repository.Gio from '/usr/local/lib/python3.9/dist-packages/PyInstaller/hooks/pre_safe_import_module/hook-gi.repository.Gio.py'.\n",
            "83784 INFO: Loading module hook 'hook-argon2.py' from '/usr/local/lib/python3.9/dist-packages/_pyinstaller_hooks_contrib/hooks/stdhooks'...\n",
            "84109 INFO: Loading module hook 'hook-dask.py' from '/usr/local/lib/python3.9/dist-packages/_pyinstaller_hooks_contrib/hooks/stdhooks'...\n",
            "86708 INFO: Loading module hook 'hook-bokeh.py' from '/usr/local/lib/python3.9/dist-packages/_pyinstaller_hooks_contrib/hooks/stdhooks'...\n",
            "93785 INFO: Loading module hook 'hook-h5py.py' from '/usr/local/lib/python3.9/dist-packages/_pyinstaller_hooks_contrib/hooks/stdhooks'...\n",
            "95469 INFO: Processing pre-safe import module hook tensorflow from '/usr/local/lib/python3.9/dist-packages/_pyinstaller_hooks_contrib/hooks/pre_safe_import_module/hook-tensorflow.py'.\n",
            "95525 INFO: Loading module hook 'hook-tensorflow.py' from '/usr/local/lib/python3.9/dist-packages/_pyinstaller_hooks_contrib/hooks/stdhooks'...\n",
            "2023-03-30 19:20:43.320738: I tensorflow/core/platform/cpu_feature_guard.cc:182] This TensorFlow binary is optimized to use available CPU instructions in performance-critical operations.\n",
            "To enable the following instructions: AVX2 FMA, in other operations, rebuild TensorFlow with the appropriate compiler flags.\n",
            "2023-03-30 19:20:44.434005: W tensorflow/compiler/tf2tensorrt/utils/py_utils.cc:38] TF-TRT Warning: Could not find TensorRT\n",
            "2840 INFO: NumExpr defaulting to 2 threads.\n",
            "2023-03-30 19:20:52.887690: I tensorflow/core/platform/cpu_feature_guard.cc:182] This TensorFlow binary is optimized to use available CPU instructions in performance-critical operations.\n",
            "To enable the following instructions: AVX2 FMA, in other operations, rebuild TensorFlow with the appropriate compiler flags.\n",
            "2023-03-30 19:20:53.968182: W tensorflow/compiler/tf2tensorrt/utils/py_utils.cc:38] TF-TRT Warning: Could not find TensorRT\n",
            "2787 INFO: NumExpr defaulting to 2 threads.\n",
            "126231 INFO: Loading module hook 'hook-httplib2.py' from '/usr/local/lib/python3.9/dist-packages/_pyinstaller_hooks_contrib/hooks/stdhooks'...\n",
            "136493 INFO: Loading module hook 'hook-google.api_core.py' from '/usr/local/lib/python3.9/dist-packages/_pyinstaller_hooks_contrib/hooks/stdhooks'...\n",
            "136613 INFO: Loading module hook 'hook-googleapiclient.model.py' from '/usr/local/lib/python3.9/dist-packages/_pyinstaller_hooks_contrib/hooks/stdhooks'...\n",
            "136667 WARNING: collect_data_files - skipping data collection for module 'googleapiclient.discovery' as it is not a package.\n",
            "147096 INFO: Loading module hook 'hook-torch.py' from '/usr/local/lib/python3.9/dist-packages/_pyinstaller_hooks_contrib/hooks/stdhooks'...\n",
            "\n",
            "=============================================================\n",
            "A RecursionError (maximum recursion depth exceeded) occurred.\n",
            "For working around please follow these instructions\n",
            "=============================================================\n",
            "\n",
            "1. In your program's .spec file add this line near the top::\n",
            "\n",
            "     import sys ; sys.setrecursionlimit(sys.getrecursionlimit() * 5)\n",
            "\n",
            "2. Build your program by running PyInstaller with the .spec file as\n",
            "   argument::\n",
            "\n",
            "     pyinstaller myprog.spec\n",
            "\n",
            "3. If this fails, you most probably hit an endless recursion in\n",
            "   PyInstaller. Please try to track this down has far as possible,\n",
            "   create a minimal example so we can reproduce and open an issue at\n",
            "   https://github.com/pyinstaller/pyinstaller/issues following the\n",
            "   instructions in the issue template. Many thanks.\n",
            "\n",
            "Explanation: Python's stack-limit is a safety-belt against endless recursion,\n",
            "eating up memory. PyInstaller imports modules recursively. If the structure\n",
            "how modules are imported within your program is awkward, this leads to the\n",
            "nesting being too deep and hitting Python's stack-limit.\n",
            "\n",
            "With the default recursion limit (1000), the recursion error occurs at about\n",
            "115 nested imported, with limit 2000 at about 240, with limit 5000 at about\n",
            "660.\n",
            "\n"
          ]
        }
      ]
    },
    {
      "cell_type": "code",
      "source": [
        "!pip install py2exe"
      ],
      "metadata": {
        "colab": {
          "base_uri": "https://localhost:8080/"
        },
        "id": "sk2jQOpd-KW_",
        "outputId": "5e1ea392-ce2d-4f94-c1e8-d466892d4cb9"
      },
      "execution_count": null,
      "outputs": [
        {
          "output_type": "stream",
          "name": "stdout",
          "text": [
            "Looking in indexes: https://pypi.org/simple, https://us-python.pkg.dev/colab-wheels/public/simple/\n",
            "Collecting py2exe\n",
            "  Downloading py2exe-0.12.0.2.tar.gz (124 kB)\n",
            "\u001b[2K     \u001b[90m━━━━━━━━━━━━━━━━━━━━━━━━━━━━━━━━━━━━━━━\u001b[0m \u001b[32m124.3/124.3 KB\u001b[0m \u001b[31m7.1 MB/s\u001b[0m eta \u001b[36m0:00:00\u001b[0m\n",
            "\u001b[?25h  \u001b[1;31merror\u001b[0m: \u001b[1msubprocess-exited-with-error\u001b[0m\n",
            "  \n",
            "  \u001b[31m×\u001b[0m \u001b[32mpython setup.py egg_info\u001b[0m did not run successfully.\n",
            "  \u001b[31m│\u001b[0m exit code: \u001b[1;36m1\u001b[0m\n",
            "  \u001b[31m╰─>\u001b[0m See above for output.\n",
            "  \n",
            "  \u001b[1;35mnote\u001b[0m: This error originates from a subprocess, and is likely not a problem with pip.\n",
            "  Preparing metadata (setup.py) ... \u001b[?25l\u001b[?25herror\n",
            "\u001b[1;31merror\u001b[0m: \u001b[1mmetadata-generation-failed\u001b[0m\n",
            "\n",
            "\u001b[31m×\u001b[0m Encountered error while generating package metadata.\n",
            "\u001b[31m╰─>\u001b[0m See above for output.\n",
            "\n",
            "\u001b[1;35mnote\u001b[0m: This is an issue with the package mentioned above, not pip.\n",
            "\u001b[1;36mhint\u001b[0m: See above for details.\n"
          ]
        }
      ]
    },
    {
      "cell_type": "code",
      "source": [
        "from google.colab import files\n",
        "\n",
        "files.download('dist/myscript')\n"
      ],
      "metadata": {
        "id": "Gfkfmt-S_DCw"
      },
      "execution_count": null,
      "outputs": []
    },
    {
      "cell_type": "code",
      "source": [
        "!pip install auto-py-to-exe"
      ],
      "metadata": {
        "colab": {
          "base_uri": "https://localhost:8080/"
        },
        "id": "pzBFUT2NNuKc",
        "outputId": "bf9dbab7-a642-4f85-99f2-c8b9c64aaff7"
      },
      "execution_count": null,
      "outputs": [
        {
          "output_type": "stream",
          "name": "stdout",
          "text": [
            "Looking in indexes: https://pypi.org/simple, https://us-python.pkg.dev/colab-wheels/public/simple/\n",
            "Collecting auto-py-to-exe\n",
            "  Downloading auto_py_to_exe-2.33.0-py2.py3-none-any.whl (108 kB)\n",
            "\u001b[2K     \u001b[90m━━━━━━━━━━━━━━━━━━━━━━━━━━━━━━━━━━━━━━━\u001b[0m \u001b[32m108.2/108.2 KB\u001b[0m \u001b[31m5.9 MB/s\u001b[0m eta \u001b[36m0:00:00\u001b[0m\n",
            "\u001b[?25hRequirement already satisfied: pyinstaller>=5.8.0 in /usr/local/lib/python3.9/dist-packages (from auto-py-to-exe) (5.9.0)\n",
            "Collecting Eel>=0.11.0\n",
            "  Downloading Eel-0.16.0.tar.gz (24 kB)\n",
            "  Preparing metadata (setup.py) ... \u001b[?25l\u001b[?25hdone\n",
            "Collecting bottle\n",
            "  Downloading bottle-0.12.25-py3-none-any.whl (90 kB)\n",
            "\u001b[2K     \u001b[90m━━━━━━━━━━━━━━━━━━━━━━━━━━━━━━━━━━━━━━━━\u001b[0m \u001b[32m90.2/90.2 KB\u001b[0m \u001b[31m14.2 MB/s\u001b[0m eta \u001b[36m0:00:00\u001b[0m\n",
            "\u001b[?25hCollecting bottle-websocket\n",
            "  Downloading bottle-websocket-0.2.9.tar.gz (2.0 kB)\n",
            "  Preparing metadata (setup.py) ... \u001b[?25l\u001b[?25hdone\n",
            "Requirement already satisfied: future in /usr/local/lib/python3.9/dist-packages (from Eel>=0.11.0->auto-py-to-exe) (0.18.3)\n",
            "Requirement already satisfied: pyparsing in /usr/local/lib/python3.9/dist-packages (from Eel>=0.11.0->auto-py-to-exe) (3.0.9)\n",
            "Collecting whichcraft\n",
            "  Downloading whichcraft-0.6.1-py2.py3-none-any.whl (5.2 kB)\n",
            "Requirement already satisfied: altgraph in /usr/local/lib/python3.9/dist-packages (from pyinstaller>=5.8.0->auto-py-to-exe) (0.17.3)\n",
            "Requirement already satisfied: setuptools>=42.0.0 in /usr/local/lib/python3.9/dist-packages (from pyinstaller>=5.8.0->auto-py-to-exe) (67.6.1)\n",
            "Requirement already satisfied: pyinstaller-hooks-contrib>=2021.4 in /usr/local/lib/python3.9/dist-packages (from pyinstaller>=5.8.0->auto-py-to-exe) (2023.1)\n",
            "Collecting gevent-websocket\n",
            "  Downloading gevent_websocket-0.10.1-py3-none-any.whl (22 kB)\n",
            "Collecting gevent\n",
            "  Downloading gevent-22.10.2-cp39-cp39-manylinux_2_17_x86_64.manylinux2014_x86_64.whl (6.4 MB)\n",
            "\u001b[2K     \u001b[90m━━━━━━━━━━━━━━━━━━━━━━━━━━━━━━━━━━━━━━━━\u001b[0m \u001b[32m6.4/6.4 MB\u001b[0m \u001b[31m76.1 MB/s\u001b[0m eta \u001b[36m0:00:00\u001b[0m\n",
            "\u001b[?25hCollecting zope.interface\n",
            "  Downloading zope.interface-6.0-cp39-cp39-manylinux_2_5_x86_64.manylinux1_x86_64.manylinux_2_17_x86_64.manylinux2014_x86_64.whl (246 kB)\n",
            "\u001b[2K     \u001b[90m━━━━━━━━━━━━━━━━━━━━━━━━━━━━━━━━━━━━━━\u001b[0m \u001b[32m246.1/246.1 KB\u001b[0m \u001b[31m33.6 MB/s\u001b[0m eta \u001b[36m0:00:00\u001b[0m\n",
            "\u001b[?25hRequirement already satisfied: greenlet>=2.0.0 in /usr/local/lib/python3.9/dist-packages (from gevent->gevent-websocket->bottle-websocket->Eel>=0.11.0->auto-py-to-exe) (2.0.2)\n",
            "Collecting zope.event\n",
            "  Downloading zope.event-4.6-py2.py3-none-any.whl (6.8 kB)\n",
            "Building wheels for collected packages: Eel, bottle-websocket\n",
            "  Building wheel for Eel (setup.py) ... \u001b[?25l\u001b[?25hdone\n",
            "  Created wheel for Eel: filename=Eel-0.16.0-py3-none-any.whl size=20705 sha256=95fc1cc78badc69a90fcec01cc8a37462101d76edd6f8983da6f7dc3770c4dc2\n",
            "  Stored in directory: /root/.cache/pip/wheels/ab/bb/66/cfa615a4e3a3b6b666318e9bc5cbe1cbf1cfa96441caa699b4\n",
            "  Building wheel for bottle-websocket (setup.py) ... \u001b[?25l\u001b[?25hdone\n",
            "  Created wheel for bottle-websocket: filename=bottle_websocket-0.2.9-py3-none-any.whl size=2348 sha256=f7b42d4688c0f4c1fe69a468f5663b894ab2e778c19b78d9bee1091c0afb95fb\n",
            "  Stored in directory: /root/.cache/pip/wheels/3f/03/89/b62449b34a0c944daa3c7ae993e2d9a97096b22a2c9d4bd49b\n",
            "Successfully built Eel bottle-websocket\n",
            "Installing collected packages: whichcraft, bottle, zope.interface, zope.event, gevent, gevent-websocket, bottle-websocket, Eel, auto-py-to-exe\n",
            "Successfully installed Eel-0.16.0 auto-py-to-exe-2.33.0 bottle-0.12.25 bottle-websocket-0.2.9 gevent-22.10.2 gevent-websocket-0.10.1 whichcraft-0.6.1 zope.event-4.6 zope.interface-6.0\n"
          ]
        }
      ]
    }
  ]
}